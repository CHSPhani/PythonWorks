{
 "cells": [
  {
   "cell_type": "code",
   "execution_count": 10,
   "id": "a555bad3-c290-4920-ac28-1e31c4fe36f0",
   "metadata": {},
   "outputs": [],
   "source": [
    "# This note book contains my learning about Functional Programming aspects in Python\n",
    "# I call Python as a Hybrid Programming Language because it is possible to \n",
    "    # Object Oriented Programming(with Methods using the object context)\n",
    "    # Public Procedures(a.k.a functions) without any object context (not static functions..) \n",
    "    # and can use the facility for functional programming. \n",
    "# Understanding the third point and Pythons accommodation for  Functional Programming concepts allows one develoepr to \n",
    "# understand the concepts of Lambda and Decorators easily."
   ]
  },
  {
   "cell_type": "code",
   "execution_count": 12,
   "id": "0a29a28f-1404-4788-9e4d-31fe15ed8046",
   "metadata": {},
   "outputs": [],
   "source": [
    "# This Notebooks is about my exploration of Functional Programming in Python.."
   ]
  },
  {
   "cell_type": "code",
   "execution_count": 11,
   "id": "f9e6220d-39d6-4fe8-8bf1-16acef62a569",
   "metadata": {},
   "outputs": [],
   "source": [
    "# In general Functions in Python has Side-Effects along with the main purpose of turning Inputs -> Outputs \n",
    "# Example: the print() function returns None while printing the input. Returning None is the side-effect of the print() function. \n",
    "# Pure Functions -> functions that dont have side effects. \n",
    "# Functional Programming requires pure functions and also requires functions to be treated as first class objects  \n",
    "# What doesnt it mean that functions are treated as first class objects -> \n",
    "    # assign them to variables, \n",
    "    # store them in data structures,\n",
    "    # pass them as arguments to other functions, \n",
    "    # return them as values from other functions"
   ]
  },
  {
   "cell_type": "code",
   "execution_count": null,
   "id": "ea2796dd-4ac9-4f43-91c6-b3798f58dfe2",
   "metadata": {},
   "outputs": [],
   "source": [
    "#Fact1 : Functions in Python are objects. We can assign them to variables...Lets explore below"
   ]
  },
  {
   "cell_type": "code",
   "execution_count": 34,
   "id": "1a9c2c25-9e0e-4123-a0c5-9642de053a1c",
   "metadata": {},
   "outputs": [
    {
     "name": "stdout",
     "output_type": "stream",
     "text": [
      "Printing hello_world from function\n",
      "Printing same_world from function\n",
      "Printing same_world from function\n"
     ]
    }
   ],
   "source": [
    "# First thing To remind is ANY thing in Python is an object. Strings, Lists, Dictionaries, primitive data types like int\n",
    "# Functions are also objects in python. \n",
    "# Let us test this fact. First let us create a sample function that prints something to the console. \n",
    "\n",
    "def temp_function(text:str):\n",
    "    print(f\"Printing {text} from function\");\n",
    "\n",
    "# Normally calling the function\n",
    "temp_function(\"hello_world\")\n",
    "\n",
    "# Fact1: As they are objects, we can assign them to another variable as below \n",
    "temp_variable = temp_function\n",
    "# now the object referenced by temp_fuction is also referenced by temp_variable. \n",
    "# In another words both temp_function and temp_variable now point to same object (that is the actual function)\n",
    "# Lets call the new variable.. \n",
    "temp_variable(\"same_world\")\n",
    "# VERY IMPORTANT\n",
    "# what is the actual function that I mentioned previously? \n",
    "# that is the function object \n",
    "# both temp_function and temp_variable are now pointing to the function object. \n",
    "# the temp_function and temp_variable are just names.Two different names for the function object. \n",
    "# IF that is so can we delete one of them? YES we can \n",
    "del temp_function\n",
    "# uncomment this line and execute \n",
    "# temp_function(\"hello world\") # this statement causes error  \n",
    "# but the temp_variable still points to the function object \n",
    "temp_variable(\"same_world\")"
   ]
  },
  {
   "cell_type": "code",
   "execution_count": 35,
   "id": "8f6df8e5-0369-443f-8cc9-162c21a4aed8",
   "metadata": {},
   "outputs": [
    {
     "name": "stdout",
     "output_type": "stream",
     "text": [
      "temp_function\n",
      "Printing still_working from function\n",
      "temp_function\n"
     ]
    }
   ],
   "source": [
    "# what happens of we say this \n",
    "print(temp_variable.__name__)\n",
    "# it gives temp_function. This seems counter intuitive. We deleted the temp_function and how can the temp_variable() strill working? \n",
    "temp_variable(\"still_working\")\n",
    "# the best answer that I get is the temp_function is the variable from where the refernce to the function object is stored in \n",
    "# temp_variable. As long as the function object is available at that reference the temp_variable() works.\n",
    "# another way of getting name\n",
    "print(temp_variable.__qualname__)\n",
    "#TODO: For me to explore further\n",
    "# We can get function name using stack frame reference like inspect.currentframe().f_code.co_name using sys and inspect libraries. \n",
    "# How to do that I need to see"
   ]
  },
  {
   "cell_type": "code",
   "execution_count": 36,
   "id": "cd51ab8c-b438-47e2-b02a-19f3b66a1924",
   "metadata": {},
   "outputs": [
    {
     "name": "stdout",
     "output_type": "stream",
     "text": [
      "[<function temp_function at 0x000001BA8C82DE40>, <method 'lower' of 'str' objects>, <method 'capitalize' of 'str' objects>]\n",
      "Printing again_world from function\n",
      "<function temp_function at 0x000001BA8C82DE40> None\n",
      "<method 'lower' of 'str' objects> again_world\n",
      "<method 'capitalize' of 'str' objects> Again_world\n"
     ]
    },
    {
     "data": {
      "text/plain": [
       "[None, None, None]"
      ]
     },
     "execution_count": 36,
     "metadata": {},
     "output_type": "execute_result"
    }
   ],
   "source": [
    "# Fact2: Functions can be stored in data structures\n",
    "# Let us store temo_variable along with other string processing functions such as str.lower and str.capitablize in a List\n",
    "functions = [temp_variable, str.lower,str.capitalize]\n",
    "# printing the, to ensure we have \n",
    "print(functions)\n",
    "# Notice the temp_function \n",
    "# Let us call these functions by passing string to check\n",
    "[print(func, func(\"again_world\")) for func in functions]\n",
    "# you may observe the None also printed at the console. I guess that is the side-effect of print()"
   ]
  },
  {
   "cell_type": "code",
   "execution_count": 41,
   "id": "46117b30-88ec-4814-a640-df2e635796d9",
   "metadata": {},
   "outputs": [
    {
     "name": "stdout",
     "output_type": "stream",
     "text": [
      "Printing I am a programmer from function\n",
      "None\n",
      "printing I am a programmer from function temp_variable_2\n",
      "None\n"
     ]
    }
   ],
   "source": [
    "# Fact3: Pass functions as other functions. \n",
    "# Let us define function that takes another function as argument \n",
    "def greet(func):\n",
    "    greeting = func(\"I am a programmer\")\n",
    "    print(greeting)\n",
    "\n",
    "# let us pass the temp_variable to gree and see what happens\n",
    "greet(temp_variable)\n",
    "#What happens if I send the temp_function to this\n",
    "# greet(temp_function) # would be error because temp function is not defined\n",
    "# Now let us define another function like below:\n",
    "def temp_variable_2(message):\n",
    "    print(f\"printing {message} from function temp_variable_2\")\n",
    "\n",
    "# an now send this to greet function \n",
    "greet(temp_variable_2)\n"
   ]
  },
  {
   "cell_type": "code",
   "execution_count": 50,
   "id": "2cca16d7-3ce6-454b-9859-38e52bffcdd6",
   "metadata": {},
   "outputs": [
    {
     "name": "stdout",
     "output_type": "stream",
     "text": [
      "Printing Iam Python Prog from function\n"
     ]
    },
    {
     "data": {
      "text/plain": [
       "'iam python prog'"
      ]
     },
     "execution_count": 50,
     "metadata": {},
     "output_type": "execute_result"
    }
   ],
   "source": [
    "# Nested functions or inner functions -> functions defined inside another functions\n",
    "# Let us define a new function as below\n",
    "def speak(text):\n",
    "    def whisper(t):\n",
    "        return t.lower() + '...'\n",
    "    return whisper(text)\n",
    "\n",
    "# If I call speak with a parameter \"I am speaking\" \n",
    "speak(\"I am Speaking..\")\n",
    "# It works. That is speak internally calls whisper and whisper is defined inside itself. \n",
    "# Can we access whisper from outsode of speak..? NO we cant \n",
    "# Let us try \n",
    "#whisper(\"I an Speaking\") # --> give error of name 'whisper' is not defined\n",
    "#Let us try another way\n",
    "#speak.whisper (\"I am speaking\") # --> gives error of 'function' object has no attribute 'whisper'\n",
    "#The only way is that retirn whisper from speak as below. Re-writing the whisper... \n",
    "def speak(choice):\n",
    "    def whisper(t):\n",
    "        return t.lower()\n",
    "    if choice == 1:\n",
    "        return temp_variable\n",
    "    elif choice == 2:\n",
    "        return whisper\n",
    "    else:\n",
    "        return None\n",
    "\n",
    "# This function return temp_variable or whisper functions based on choice let us test \n",
    "# calling with choice 1\n",
    "speak(1)\n",
    "# calling with choice 2\n",
    "speak(2)\n",
    "# calling with other choice \n",
    "speak(3)\n",
    "#Another way of calling temp_variable which is returned by speak\n",
    "speak(1)(\"Iam Python Prog\")\n",
    "#Another way of calling whisper which is returned by speak\n",
    "speak(2)(\"Iam Python Prog\")\n",
    "\n",
    "# Funtions inside Functions is useful when they should return behaviors \n",
    "# IMP: If a function dont return an inner function, then they are hidden that is not useful from outside. \n"
   ]
  },
  {
   "cell_type": "code",
   "execution_count": 56,
   "id": "bfed6af1-8f38-40c2-932b-350ec63bfe1b",
   "metadata": {},
   "outputs": [
    {
     "name": "stdout",
     "output_type": "stream",
     "text": [
      "Printing Iam Python Programmer from function\n"
     ]
    },
    {
     "data": {
      "text/plain": [
       "'iam python programmer'"
      ]
     },
     "execution_count": 56,
     "metadata": {},
     "output_type": "execute_result"
    }
   ],
   "source": [
    "# IMP: inner functions can also capture and carry some of the parent function’s state with them\n",
    "# Let us rewrite the speak function \n",
    "def speak(text, choice):\n",
    "    def whisper():\n",
    "        return text.lower()\n",
    "    if choice == 1:\n",
    "        return temp_variable(text)\n",
    "    elif choice == 2:\n",
    "        return whisper()\n",
    "    else:\n",
    "        return None\n",
    "\n",
    "# Let us test the new speak that shares its state with internal functions and return them !!\n",
    "speak(\"Iam Python Programmer\",1) # returns the output of temp_variable()\n",
    "speak(\"Iam Python Programmer\",2) # returns the output of whisper()"
   ]
  },
  {
   "cell_type": "code",
   "execution_count": 67,
   "id": "046e1f9c-4b11-48dc-a9f8-401b9dd2149b",
   "metadata": {},
   "outputs": [
    {
     "data": {
      "text/plain": [
       "7"
      ]
     },
     "execution_count": 67,
     "metadata": {},
     "output_type": "execute_result"
    }
   ],
   "source": [
    "# The whisper and temp_variable functions capture argument given to parent function and “remember” the value of that argument.\n",
    "# Functions that do this are called lexical closures (or just closures, for short). \n",
    "# A closure remembers the values from its enclosing lexical scope even when the program flow is no longer in that scope.\n",
    "# Another Example: \n",
    "def make_adder(n):\n",
    "    def add(x):\n",
    "        return x + n\n",
    "    return add\n",
    "#Here comes the suprise \n",
    "make_adder(3) # returns function add(3) (x+n =3)\n",
    "#let us capture this in a variable \n",
    "plus_3 = make_adder(3) \n",
    "#let us call plus_3() --> this required positinal argument x\n",
    "plus_3(4)\n",
    "# Output would be 7\n",
    "# make_adder serves as a factory to create and configure “adder” functions. \n",
    "# when called plus_3(4) Notice how the “adder” functions can still access the n argument of the make_adder function (the enclosing scope). \n"
   ]
  },
  {
   "cell_type": "code",
   "execution_count": null,
   "id": "7489d63d-ce35-40ac-99e3-0837fb40d548",
   "metadata": {},
   "outputs": [],
   "source": []
  }
 ],
 "metadata": {
  "kernelspec": {
   "display_name": "Python 3 (ipykernel)",
   "language": "python",
   "name": "python3"
  },
  "language_info": {
   "codemirror_mode": {
    "name": "ipython",
    "version": 3
   },
   "file_extension": ".py",
   "mimetype": "text/x-python",
   "name": "python",
   "nbconvert_exporter": "python",
   "pygments_lexer": "ipython3",
   "version": "3.11.1"
  }
 },
 "nbformat": 4,
 "nbformat_minor": 5
}
